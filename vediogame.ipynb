{
 "cells": [
  {
   "cell_type": "markdown",
   "id": "6b086fc6-ddb7-4a67-b91e-83f5e3ef36c8",
   "metadata": {},
   "source": [
    "# Vedio Game Dataset Analysis"
   ]
  },
  {
   "cell_type": "code",
   "execution_count": null,
   "id": "5cd7102d-7376-4f78-9f7f-e3889a96bbce",
   "metadata": {},
   "outputs": [],
   "source": [
    "# Importing Libraries\n",
    "import pandas as pd\n",
    "import numpy as np\n",
    "import matplotlib.pyplot as plt\n",
    "import seaborn as sns\n",
    "\n"
   ]
  },
  {
   "cell_type": "markdown",
   "id": "416cee89-a82a-4a49-bac6-06b5e3fc52cd",
   "metadata": {},
   "source": [
    "# Read csv file"
   ]
  },
  {
   "cell_type": "code",
   "execution_count": 65,
   "id": "e76c230d-b1b9-480a-8926-5af619fd867c",
   "metadata": {},
   "outputs": [
    {
     "data": {
      "text/html": [
       "<div>\n",
       "<style scoped>\n",
       "    .dataframe tbody tr th:only-of-type {\n",
       "        vertical-align: middle;\n",
       "    }\n",
       "\n",
       "    .dataframe tbody tr th {\n",
       "        vertical-align: top;\n",
       "    }\n",
       "\n",
       "    .dataframe thead th {\n",
       "        text-align: right;\n",
       "    }\n",
       "</style>\n",
       "<table border=\"1\" class=\"dataframe\">\n",
       "  <thead>\n",
       "    <tr style=\"text-align: right;\">\n",
       "      <th></th>\n",
       "      <th>Rank</th>\n",
       "      <th>Name</th>\n",
       "      <th>Platform</th>\n",
       "      <th>Year</th>\n",
       "      <th>Month</th>\n",
       "      <th>Genre</th>\n",
       "      <th>Publisher</th>\n",
       "      <th>Country</th>\n",
       "      <th>City</th>\n",
       "      <th>State</th>\n",
       "      <th>Region</th>\n",
       "      <th>NA_Sales</th>\n",
       "      <th>Global_Sales</th>\n",
       "      <th>NA_Profit</th>\n",
       "      <th>Global_Profit</th>\n",
       "    </tr>\n",
       "  </thead>\n",
       "  <tbody>\n",
       "    <tr>\n",
       "      <th>0</th>\n",
       "      <td>1</td>\n",
       "      <td>Wii Sports</td>\n",
       "      <td>Wii</td>\n",
       "      <td>2010</td>\n",
       "      <td>Jan</td>\n",
       "      <td>Sports</td>\n",
       "      <td>Nintendo</td>\n",
       "      <td>United States</td>\n",
       "      <td>Fairfield</td>\n",
       "      <td>California</td>\n",
       "      <td>West</td>\n",
       "      <td>$41.49</td>\n",
       "      <td>82.74</td>\n",
       "      <td>12.447</td>\n",
       "      <td>24.822</td>\n",
       "    </tr>\n",
       "    <tr>\n",
       "      <th>1</th>\n",
       "      <td>2</td>\n",
       "      <td>Super Mario Bros.</td>\n",
       "      <td>NES</td>\n",
       "      <td>2010</td>\n",
       "      <td>Feb</td>\n",
       "      <td>Platform</td>\n",
       "      <td>Nintendo</td>\n",
       "      <td>United States</td>\n",
       "      <td>Edmonds</td>\n",
       "      <td>Washington</td>\n",
       "      <td>West</td>\n",
       "      <td>$29.08</td>\n",
       "      <td>40.24</td>\n",
       "      <td>8.724</td>\n",
       "      <td>12.072</td>\n",
       "    </tr>\n",
       "    <tr>\n",
       "      <th>2</th>\n",
       "      <td>3</td>\n",
       "      <td>Mario Kart Wii</td>\n",
       "      <td>Wii</td>\n",
       "      <td>2010</td>\n",
       "      <td>Mar</td>\n",
       "      <td>Racing</td>\n",
       "      <td>Nintendo</td>\n",
       "      <td>United States</td>\n",
       "      <td>Louisville</td>\n",
       "      <td>Kentucky</td>\n",
       "      <td>South</td>\n",
       "      <td>$15.85</td>\n",
       "      <td>35.82</td>\n",
       "      <td>4.755</td>\n",
       "      <td>10.746</td>\n",
       "    </tr>\n",
       "    <tr>\n",
       "      <th>3</th>\n",
       "      <td>4</td>\n",
       "      <td>Wii Sports Resort</td>\n",
       "      <td>Wii</td>\n",
       "      <td>2010</td>\n",
       "      <td>Apr</td>\n",
       "      <td>Sports</td>\n",
       "      <td>Nintendo</td>\n",
       "      <td>United States</td>\n",
       "      <td>Round Rock</td>\n",
       "      <td>Texas</td>\n",
       "      <td>Central</td>\n",
       "      <td>$15.75</td>\n",
       "      <td>33.00</td>\n",
       "      <td>4.725</td>\n",
       "      <td>9.900</td>\n",
       "    </tr>\n",
       "    <tr>\n",
       "      <th>4</th>\n",
       "      <td>5</td>\n",
       "      <td>Pokemon Red/Pokemon Blue</td>\n",
       "      <td>GB</td>\n",
       "      <td>2010</td>\n",
       "      <td>May</td>\n",
       "      <td>Role-Playing</td>\n",
       "      <td>Nintendo</td>\n",
       "      <td>United States</td>\n",
       "      <td>Nashville</td>\n",
       "      <td>Tennessee</td>\n",
       "      <td>South</td>\n",
       "      <td>$11.27</td>\n",
       "      <td>31.37</td>\n",
       "      <td>3.381</td>\n",
       "      <td>9.411</td>\n",
       "    </tr>\n",
       "    <tr>\n",
       "      <th>...</th>\n",
       "      <td>...</td>\n",
       "      <td>...</td>\n",
       "      <td>...</td>\n",
       "      <td>...</td>\n",
       "      <td>...</td>\n",
       "      <td>...</td>\n",
       "      <td>...</td>\n",
       "      <td>...</td>\n",
       "      <td>...</td>\n",
       "      <td>...</td>\n",
       "      <td>...</td>\n",
       "      <td>...</td>\n",
       "      <td>...</td>\n",
       "      <td>...</td>\n",
       "      <td>...</td>\n",
       "    </tr>\n",
       "    <tr>\n",
       "      <th>5904</th>\n",
       "      <td>5890</td>\n",
       "      <td>Crazy Taxi: Catch a Ride</td>\n",
       "      <td>GBA</td>\n",
       "      <td>2017</td>\n",
       "      <td>Sep</td>\n",
       "      <td>Racing</td>\n",
       "      <td>THQ</td>\n",
       "      <td>Australia</td>\n",
       "      <td>Sydney</td>\n",
       "      <td>New South Wales</td>\n",
       "      <td>West</td>\n",
       "      <td>0.21</td>\n",
       "      <td>0.30</td>\n",
       "      <td>0.063</td>\n",
       "      <td>0.090</td>\n",
       "    </tr>\n",
       "    <tr>\n",
       "      <th>5905</th>\n",
       "      <td>5891</td>\n",
       "      <td>MySims Party</td>\n",
       "      <td>DS</td>\n",
       "      <td>2017</td>\n",
       "      <td>Oct</td>\n",
       "      <td>Simulation</td>\n",
       "      <td>Electronic Arts</td>\n",
       "      <td>Australia</td>\n",
       "      <td>Sydney</td>\n",
       "      <td>New South Wales</td>\n",
       "      <td>West</td>\n",
       "      <td>0.15</td>\n",
       "      <td>0.30</td>\n",
       "      <td>0.045</td>\n",
       "      <td>0.090</td>\n",
       "    </tr>\n",
       "    <tr>\n",
       "      <th>5906</th>\n",
       "      <td>5892</td>\n",
       "      <td>Harry Potter and the Order of the Phoenix</td>\n",
       "      <td>X360</td>\n",
       "      <td>2017</td>\n",
       "      <td>Nov</td>\n",
       "      <td>Action</td>\n",
       "      <td>Electronic Arts</td>\n",
       "      <td>Australia</td>\n",
       "      <td>Sydney</td>\n",
       "      <td>New South Wales</td>\n",
       "      <td>West</td>\n",
       "      <td>0.24</td>\n",
       "      <td>0.30</td>\n",
       "      <td>0.072</td>\n",
       "      <td>0.090</td>\n",
       "    </tr>\n",
       "    <tr>\n",
       "      <th>5907</th>\n",
       "      <td>5893</td>\n",
       "      <td>Skylanders: SuperChargers</td>\n",
       "      <td>PS4</td>\n",
       "      <td>2017</td>\n",
       "      <td>Dec</td>\n",
       "      <td>Action</td>\n",
       "      <td>Activision</td>\n",
       "      <td>Australia</td>\n",
       "      <td>Sydney</td>\n",
       "      <td>New South Wales</td>\n",
       "      <td>West</td>\n",
       "      <td>0.17</td>\n",
       "      <td>0.30</td>\n",
       "      <td>0.051</td>\n",
       "      <td>0.090</td>\n",
       "    </tr>\n",
       "    <tr>\n",
       "      <th>5908</th>\n",
       "      <td>5894</td>\n",
       "      <td>Macross Digital Mission VF-X</td>\n",
       "      <td>PS</td>\n",
       "      <td>2017</td>\n",
       "      <td>Jan</td>\n",
       "      <td>Simulation</td>\n",
       "      <td>Namco Bandai Games</td>\n",
       "      <td>Australia</td>\n",
       "      <td>Sydney</td>\n",
       "      <td>New South Wales</td>\n",
       "      <td>West</td>\n",
       "      <td>0</td>\n",
       "      <td>0.30</td>\n",
       "      <td>0.000</td>\n",
       "      <td>0.090</td>\n",
       "    </tr>\n",
       "  </tbody>\n",
       "</table>\n",
       "<p>5909 rows × 15 columns</p>\n",
       "</div>"
      ],
      "text/plain": [
       "      Rank                                       Name Platform  Year Month  \\\n",
       "0        1                                 Wii Sports      Wii  2010   Jan   \n",
       "1        2                          Super Mario Bros.      NES  2010   Feb   \n",
       "2        3                             Mario Kart Wii      Wii  2010   Mar   \n",
       "3        4                          Wii Sports Resort      Wii  2010   Apr   \n",
       "4        5                   Pokemon Red/Pokemon Blue       GB  2010   May   \n",
       "...    ...                                        ...      ...   ...   ...   \n",
       "5904  5890                   Crazy Taxi: Catch a Ride      GBA  2017   Sep   \n",
       "5905  5891                               MySims Party       DS  2017   Oct   \n",
       "5906  5892  Harry Potter and the Order of the Phoenix     X360  2017   Nov   \n",
       "5907  5893                  Skylanders: SuperChargers      PS4  2017   Dec   \n",
       "5908  5894               Macross Digital Mission VF-X       PS  2017   Jan   \n",
       "\n",
       "             Genre           Publisher        Country        City  \\\n",
       "0           Sports            Nintendo  United States   Fairfield   \n",
       "1         Platform            Nintendo  United States     Edmonds   \n",
       "2           Racing            Nintendo  United States  Louisville   \n",
       "3           Sports            Nintendo  United States  Round Rock   \n",
       "4     Role-Playing            Nintendo  United States   Nashville   \n",
       "...            ...                 ...            ...         ...   \n",
       "5904        Racing                 THQ      Australia      Sydney   \n",
       "5905    Simulation     Electronic Arts      Australia      Sydney   \n",
       "5906        Action     Electronic Arts      Australia      Sydney   \n",
       "5907        Action          Activision      Australia      Sydney   \n",
       "5908    Simulation  Namco Bandai Games      Australia      Sydney   \n",
       "\n",
       "                State   Region NA_Sales  Global_Sales  NA_Profit  \\\n",
       "0          California     West   $41.49         82.74     12.447   \n",
       "1          Washington     West   $29.08         40.24      8.724   \n",
       "2            Kentucky    South   $15.85         35.82      4.755   \n",
       "3               Texas  Central   $15.75         33.00      4.725   \n",
       "4           Tennessee    South   $11.27         31.37      3.381   \n",
       "...               ...      ...      ...           ...        ...   \n",
       "5904  New South Wales     West     0.21          0.30      0.063   \n",
       "5905  New South Wales     West     0.15          0.30      0.045   \n",
       "5906  New South Wales     West     0.24          0.30      0.072   \n",
       "5907  New South Wales     West     0.17          0.30      0.051   \n",
       "5908  New South Wales     West        0          0.30      0.000   \n",
       "\n",
       "      Global_Profit  \n",
       "0            24.822  \n",
       "1            12.072  \n",
       "2            10.746  \n",
       "3             9.900  \n",
       "4             9.411  \n",
       "...             ...  \n",
       "5904          0.090  \n",
       "5905          0.090  \n",
       "5906          0.090  \n",
       "5907          0.090  \n",
       "5908          0.090  \n",
       "\n",
       "[5909 rows x 15 columns]"
      ]
     },
     "execution_count": 65,
     "metadata": {},
     "output_type": "execute_result"
    }
   ],
   "source": [
    "df=pd.read_csv('C:/Users/Asus/Desktop/VideoGamesSales.csv')\n",
    "df"
   ]
  },
  {
   "cell_type": "code",
   "execution_count": 67,
   "id": "c415ad32-a85a-4a04-8ba3-2ffbfc9588d9",
   "metadata": {},
   "outputs": [
    {
     "name": "stdout",
     "output_type": "stream",
     "text": [
      "<class 'pandas.core.frame.DataFrame'>\n",
      "RangeIndex: 5909 entries, 0 to 5908\n",
      "Data columns (total 15 columns):\n",
      " #   Column         Non-Null Count  Dtype  \n",
      "---  ------         --------------  -----  \n",
      " 0   Rank           5909 non-null   int64  \n",
      " 1   Name           5909 non-null   object \n",
      " 2   Platform       5909 non-null   object \n",
      " 3   Year           5909 non-null   int64  \n",
      " 4   Month          5909 non-null   object \n",
      " 5   Genre          5909 non-null   object \n",
      " 6   Publisher      5897 non-null   object \n",
      " 7   Country        5909 non-null   object \n",
      " 8   City           5909 non-null   object \n",
      " 9   State          5909 non-null   object \n",
      " 10  Region         5882 non-null   object \n",
      " 11  NA_Sales       5909 non-null   object \n",
      " 12  Global_Sales   5909 non-null   float64\n",
      " 13  NA_Profit      5909 non-null   float64\n",
      " 14  Global_Profit  5909 non-null   float64\n",
      "dtypes: float64(3), int64(2), object(10)\n",
      "memory usage: 692.6+ KB\n"
     ]
    }
   ],
   "source": [
    "df.info()"
   ]
  },
  {
   "cell_type": "markdown",
   "id": "40492047-3eea-492f-a7d4-c1a8e3aea1da",
   "metadata": {},
   "source": [
    "# Cleaning And Transforming Data"
   ]
  },
  {
   "cell_type": "code",
   "execution_count": null,
   "id": "e813ad4d-ee23-4572-8c56-d771578127aa",
   "metadata": {},
   "outputs": [
    {
     "data": {
      "text/plain": [
       "Rank             16\n",
       "Name             16\n",
       "Platform         16\n",
       "Year             16\n",
       "Month            16\n",
       "Genre            16\n",
       "Publisher        16\n",
       "Country          16\n",
       "City             16\n",
       "State            16\n",
       "Region           16\n",
       "NA_Sales         16\n",
       "Global_Sales     16\n",
       "NA_Profit        16\n",
       "Global_Profit    16\n",
       "dtype: int64"
      ]
     },
     "execution_count": 68,
     "metadata": {},
     "output_type": "execute_result"
    }
   ],
   "source": [
    "# REMOVING DUPLICATES\n",
    "df[df.duplicated()].count()\n"
   ]
  },
  {
   "cell_type": "code",
   "execution_count": 69,
   "id": "fffc99c3-09f7-4085-9196-ef5e3523cde7",
   "metadata": {},
   "outputs": [
    {
     "data": {
      "text/plain": [
       "Rank             0\n",
       "Name             0\n",
       "Platform         0\n",
       "Year             0\n",
       "Month            0\n",
       "Genre            0\n",
       "Publisher        0\n",
       "Country          0\n",
       "City             0\n",
       "State            0\n",
       "Region           0\n",
       "NA_Sales         0\n",
       "Global_Sales     0\n",
       "NA_Profit        0\n",
       "Global_Profit    0\n",
       "dtype: int64"
      ]
     },
     "execution_count": 69,
     "metadata": {},
     "output_type": "execute_result"
    }
   ],
   "source": [
    "df=df.drop_duplicates()\n",
    "df[df.duplicated()].count()"
   ]
  },
  {
   "cell_type": "code",
   "execution_count": null,
   "id": "82b67d0a-bb64-4620-a23c-ddd4a86a2eb9",
   "metadata": {},
   "outputs": [],
   "source": [
    "# REMOVING NULL VALUES"
   ]
  },
  {
   "cell_type": "code",
   "execution_count": 28,
   "id": "78f133f3-7d8d-4e05-a67e-28eaf85ea48b",
   "metadata": {},
   "outputs": [
    {
     "data": {
      "text/plain": [
       "Rank              0\n",
       "Name              0\n",
       "Platform          0\n",
       "Year              0\n",
       "Month             0\n",
       "Genre             0\n",
       "Publisher        12\n",
       "Country           0\n",
       "City              0\n",
       "State             0\n",
       "Region           27\n",
       "NA_Sales          0\n",
       "Global_Sales      0\n",
       "NA_Profit         0\n",
       "Global_Profit     0\n",
       "dtype: int64"
      ]
     },
     "execution_count": 28,
     "metadata": {},
     "output_type": "execute_result"
    }
   ],
   "source": [
    "df.isnull().sum()"
   ]
  },
  {
   "cell_type": "code",
   "execution_count": 71,
   "id": "8a4f74a8-4703-49fe-82d9-69874b8776eb",
   "metadata": {},
   "outputs": [
    {
     "name": "stderr",
     "output_type": "stream",
     "text": [
      "C:\\Users\\Asus\\AppData\\Local\\Temp\\ipykernel_8420\\925315966.py:1: FutureWarning: A value is trying to be set on a copy of a DataFrame or Series through chained assignment using an inplace method.\n",
      "The behavior will change in pandas 3.0. This inplace method will never work because the intermediate object on which we are setting values always behaves as a copy.\n",
      "\n",
      "For example, when doing 'df[col].method(value, inplace=True)', try using 'df.method({col: value}, inplace=True)' or df[col] = df[col].method(value) instead, to perform the operation inplace on the original object.\n",
      "\n",
      "\n",
      "  df['Region'].fillna('North',inplace=True)\n",
      "C:\\Users\\Asus\\AppData\\Local\\Temp\\ipykernel_8420\\925315966.py:1: SettingWithCopyWarning: \n",
      "A value is trying to be set on a copy of a slice from a DataFrame\n",
      "\n",
      "See the caveats in the documentation: https://pandas.pydata.org/pandas-docs/stable/user_guide/indexing.html#returning-a-view-versus-a-copy\n",
      "  df['Region'].fillna('North',inplace=True)\n"
     ]
    }
   ],
   "source": [
    "df['Region'].fillna('North',inplace=True)"
   ]
  },
  {
   "cell_type": "code",
   "execution_count": 72,
   "id": "5d379ad2-56b6-49f5-b92f-1acd400582e9",
   "metadata": {},
   "outputs": [
    {
     "data": {
      "text/plain": [
       "Rank              0\n",
       "Name              0\n",
       "Platform          0\n",
       "Year              0\n",
       "Month             0\n",
       "Genre             0\n",
       "Publisher        12\n",
       "Country           0\n",
       "City              0\n",
       "State             0\n",
       "Region            0\n",
       "NA_Sales          0\n",
       "Global_Sales      0\n",
       "NA_Profit         0\n",
       "Global_Profit     0\n",
       "dtype: int64"
      ]
     },
     "execution_count": 72,
     "metadata": {},
     "output_type": "execute_result"
    }
   ],
   "source": [
    "df.isnull().sum()"
   ]
  },
  {
   "cell_type": "code",
   "execution_count": 73,
   "id": "d8ef7d07-e50e-499c-9f91-e41a3f6cd912",
   "metadata": {},
   "outputs": [
    {
     "name": "stderr",
     "output_type": "stream",
     "text": [
      "C:\\Users\\Asus\\AppData\\Local\\Temp\\ipykernel_8420\\167667203.py:1: FutureWarning: A value is trying to be set on a copy of a DataFrame or Series through chained assignment using an inplace method.\n",
      "The behavior will change in pandas 3.0. This inplace method will never work because the intermediate object on which we are setting values always behaves as a copy.\n",
      "\n",
      "For example, when doing 'df[col].method(value, inplace=True)', try using 'df.method({col: value}, inplace=True)' or df[col] = df[col].method(value) instead, to perform the operation inplace on the original object.\n",
      "\n",
      "\n",
      "  df['Publisher'].fillna('THQ',inplace=True)\n",
      "C:\\Users\\Asus\\AppData\\Local\\Temp\\ipykernel_8420\\167667203.py:1: SettingWithCopyWarning: \n",
      "A value is trying to be set on a copy of a slice from a DataFrame\n",
      "\n",
      "See the caveats in the documentation: https://pandas.pydata.org/pandas-docs/stable/user_guide/indexing.html#returning-a-view-versus-a-copy\n",
      "  df['Publisher'].fillna('THQ',inplace=True)\n"
     ]
    }
   ],
   "source": [
    "df['Publisher'].fillna('THQ',inplace=True)"
   ]
  },
  {
   "cell_type": "code",
   "execution_count": 74,
   "id": "01bf91ee-86a5-4d30-a6a4-2e19f6897bc0",
   "metadata": {},
   "outputs": [
    {
     "data": {
      "text/plain": [
       "Rank             0\n",
       "Name             0\n",
       "Platform         0\n",
       "Year             0\n",
       "Month            0\n",
       "Genre            0\n",
       "Publisher        0\n",
       "Country          0\n",
       "City             0\n",
       "State            0\n",
       "Region           0\n",
       "NA_Sales         0\n",
       "Global_Sales     0\n",
       "NA_Profit        0\n",
       "Global_Profit    0\n",
       "dtype: int64"
      ]
     },
     "execution_count": 74,
     "metadata": {},
     "output_type": "execute_result"
    }
   ],
   "source": [
    "df.isnull().sum()"
   ]
  },
  {
   "cell_type": "code",
   "execution_count": 40,
   "id": "66899011-3bf4-4944-97fd-217270d8c9b2",
   "metadata": {},
   "outputs": [],
   "source": [
    "# REPLACING VALUES"
   ]
  },
  {
   "cell_type": "code",
   "execution_count": 75,
   "id": "dec64334-7266-4e5d-9d60-a30e65823aa2",
   "metadata": {},
   "outputs": [
    {
     "name": "stderr",
     "output_type": "stream",
     "text": [
      "C:\\Users\\Asus\\AppData\\Local\\Temp\\ipykernel_8420\\3577917990.py:1: SettingWithCopyWarning: \n",
      "A value is trying to be set on a copy of a slice from a DataFrame.\n",
      "Try using .loc[row_indexer,col_indexer] = value instead\n",
      "\n",
      "See the caveats in the documentation: https://pandas.pydata.org/pandas-docs/stable/user_guide/indexing.html#returning-a-view-versus-a-copy\n",
      "  df['NA_Sales']=df['NA_Sales'].replace('[$]','',regex=True)\n"
     ]
    },
    {
     "data": {
      "text/plain": [
       "0       41.49\n",
       "1       29.08\n",
       "2       15.85\n",
       "3       15.75\n",
       "4       11.27\n",
       "        ...  \n",
       "5904     0.21\n",
       "5905     0.15\n",
       "5906     0.24\n",
       "5907     0.17\n",
       "5908        0\n",
       "Name: NA_Sales, Length: 5893, dtype: object"
      ]
     },
     "execution_count": 75,
     "metadata": {},
     "output_type": "execute_result"
    }
   ],
   "source": [
    "df['NA_Sales']=df['NA_Sales'].replace('[$]','',regex=True)\n",
    "df['NA_Sales']"
   ]
  },
  {
   "cell_type": "code",
   "execution_count": 76,
   "id": "22d1b60a-d973-45d8-a438-cbce34717336",
   "metadata": {},
   "outputs": [
    {
     "data": {
      "text/plain": [
       "Rank               int64\n",
       "Name              object\n",
       "Platform          object\n",
       "Year               int64\n",
       "Month             object\n",
       "Genre             object\n",
       "Publisher         object\n",
       "Country           object\n",
       "City              object\n",
       "State             object\n",
       "Region            object\n",
       "NA_Sales          object\n",
       "Global_Sales     float64\n",
       "NA_Profit        float64\n",
       "Global_Profit    float64\n",
       "dtype: object"
      ]
     },
     "execution_count": 76,
     "metadata": {},
     "output_type": "execute_result"
    }
   ],
   "source": [
    "df.dtypes"
   ]
  },
  {
   "cell_type": "code",
   "execution_count": 77,
   "id": "eb59a0f4-8d18-46d8-aef3-149fb66c82b9",
   "metadata": {},
   "outputs": [
    {
     "name": "stderr",
     "output_type": "stream",
     "text": [
      "C:\\Users\\Asus\\AppData\\Local\\Temp\\ipykernel_8420\\3619286920.py:1: SettingWithCopyWarning: \n",
      "A value is trying to be set on a copy of a slice from a DataFrame.\n",
      "Try using .loc[row_indexer,col_indexer] = value instead\n",
      "\n",
      "See the caveats in the documentation: https://pandas.pydata.org/pandas-docs/stable/user_guide/indexing.html#returning-a-view-versus-a-copy\n",
      "  df['NA_Sales']=pd.to_numeric(df['NA_Sales'],errors='coerce')\n"
     ]
    }
   ],
   "source": [
    "df['NA_Sales']=pd.to_numeric(df['NA_Sales'],errors='coerce')"
   ]
  },
  {
   "cell_type": "code",
   "execution_count": 78,
   "id": "05bed396-1a1c-4bb6-8ccb-25dfdc569f73",
   "metadata": {},
   "outputs": [
    {
     "data": {
      "text/plain": [
       "Rank               int64\n",
       "Name              object\n",
       "Platform          object\n",
       "Year               int64\n",
       "Month             object\n",
       "Genre             object\n",
       "Publisher         object\n",
       "Country           object\n",
       "City              object\n",
       "State             object\n",
       "Region            object\n",
       "NA_Sales         float64\n",
       "Global_Sales     float64\n",
       "NA_Profit        float64\n",
       "Global_Profit    float64\n",
       "dtype: object"
      ]
     },
     "execution_count": 78,
     "metadata": {},
     "output_type": "execute_result"
    }
   ],
   "source": [
    "df.dtypes"
   ]
  },
  {
   "cell_type": "code",
   "execution_count": 83,
   "id": "70077f67-89a3-48af-901b-bcb1b2e45bf7",
   "metadata": {},
   "outputs": [
    {
     "name": "stderr",
     "output_type": "stream",
     "text": [
      "C:\\Users\\Asus\\AppData\\Local\\Temp\\ipykernel_8420\\1299990227.py:3: SettingWithCopyWarning: \n",
      "A value is trying to be set on a copy of a slice from a DataFrame.\n",
      "Try using .loc[row_indexer,col_indexer] = value instead\n",
      "\n",
      "See the caveats in the documentation: https://pandas.pydata.org/pandas-docs/stable/user_guide/indexing.html#returning-a-view-versus-a-copy\n",
      "  df['NA_Sales']=df['NA_Sales'].fillna(avg)\n"
     ]
    },
    {
     "data": {
      "text/plain": [
       "0       41.49\n",
       "1       29.08\n",
       "2       15.85\n",
       "3       15.75\n",
       "4       11.27\n",
       "        ...  \n",
       "5904     0.21\n",
       "5905     0.15\n",
       "5906     0.24\n",
       "5907     0.17\n",
       "5908     0.00\n",
       "Name: NA_Sales, Length: 5893, dtype: float64"
      ]
     },
     "execution_count": 83,
     "metadata": {},
     "output_type": "execute_result"
    }
   ],
   "source": [
    "avg=df['NA_Sales'].mean()\n",
    "avg=int(avg)\n",
    "df['NA_Sales']=df['NA_Sales'].fillna(avg)\n",
    "df['NA_Sales']"
   ]
  },
  {
   "cell_type": "code",
   "execution_count": 92,
   "id": "63489425-1772-42bc-b799-bd00ce1569b0",
   "metadata": {},
   "outputs": [
    {
     "name": "stderr",
     "output_type": "stream",
     "text": [
      "C:\\Users\\Asus\\AppData\\Local\\Temp\\ipykernel_8420\\2118542825.py:1: SettingWithCopyWarning: \n",
      "A value is trying to be set on a copy of a slice from a DataFrame.\n",
      "Try using .loc[row_indexer,col_indexer] = value instead\n",
      "\n",
      "See the caveats in the documentation: https://pandas.pydata.org/pandas-docs/stable/user_guide/indexing.html#returning-a-view-versus-a-copy\n",
      "  df['Country']=df['Country'].replace({'United State':'United States'})\n"
     ]
    },
    {
     "data": {
      "text/plain": [
       "0     United States\n",
       "1     United States\n",
       "2     United States\n",
       "3     United States\n",
       "4     United States\n",
       "5     United States\n",
       "6     United States\n",
       "7     United States\n",
       "8     United States\n",
       "13    United States\n",
       "14    United States\n",
       "15    United States\n",
       "16    United States\n",
       "17    United States\n",
       "18    United States\n",
       "Name: Country, dtype: object"
      ]
     },
     "execution_count": 92,
     "metadata": {},
     "output_type": "execute_result"
    }
   ],
   "source": [
    "df['Country']=df['Country'].replace({'United State':'United States'})\n",
    "df['Country'].head(15)\n",
    "# df['Country']=df['Country'].str.title()"
   ]
  },
  {
   "cell_type": "code",
   "execution_count": 93,
   "id": "99b62862-1a7e-49e1-b67b-b82220473de8",
   "metadata": {},
   "outputs": [],
   "source": [
    "#RENAMING COLUMNS"
   ]
  },
  {
   "cell_type": "code",
   "execution_count": 95,
   "id": "f50b451e-6ab6-4411-b10b-3f61540bb6be",
   "metadata": {},
   "outputs": [
    {
     "data": {
      "text/html": [
       "<div>\n",
       "<style scoped>\n",
       "    .dataframe tbody tr th:only-of-type {\n",
       "        vertical-align: middle;\n",
       "    }\n",
       "\n",
       "    .dataframe tbody tr th {\n",
       "        vertical-align: top;\n",
       "    }\n",
       "\n",
       "    .dataframe thead th {\n",
       "        text-align: right;\n",
       "    }\n",
       "</style>\n",
       "<table border=\"1\" class=\"dataframe\">\n",
       "  <thead>\n",
       "    <tr style=\"text-align: right;\">\n",
       "      <th></th>\n",
       "      <th>Rank</th>\n",
       "      <th>Name</th>\n",
       "      <th>Platform</th>\n",
       "      <th>Year</th>\n",
       "      <th>Month</th>\n",
       "      <th>Genre</th>\n",
       "      <th>Publisher</th>\n",
       "      <th>Country</th>\n",
       "      <th>City</th>\n",
       "      <th>State</th>\n",
       "      <th>Region</th>\n",
       "      <th>National_sales</th>\n",
       "      <th>Global_Sales</th>\n",
       "      <th>National_profit</th>\n",
       "      <th>Global_Profit</th>\n",
       "    </tr>\n",
       "  </thead>\n",
       "  <tbody>\n",
       "    <tr>\n",
       "      <th>0</th>\n",
       "      <td>1</td>\n",
       "      <td>Wii Sports</td>\n",
       "      <td>Wii</td>\n",
       "      <td>2010</td>\n",
       "      <td>Jan</td>\n",
       "      <td>Sports</td>\n",
       "      <td>Nintendo</td>\n",
       "      <td>United States</td>\n",
       "      <td>Fairfield</td>\n",
       "      <td>California</td>\n",
       "      <td>West</td>\n",
       "      <td>41.49</td>\n",
       "      <td>82.74</td>\n",
       "      <td>12.447</td>\n",
       "      <td>24.822</td>\n",
       "    </tr>\n",
       "    <tr>\n",
       "      <th>1</th>\n",
       "      <td>2</td>\n",
       "      <td>Super Mario Bros.</td>\n",
       "      <td>NES</td>\n",
       "      <td>2010</td>\n",
       "      <td>Feb</td>\n",
       "      <td>Platform</td>\n",
       "      <td>Nintendo</td>\n",
       "      <td>United States</td>\n",
       "      <td>Edmonds</td>\n",
       "      <td>Washington</td>\n",
       "      <td>West</td>\n",
       "      <td>29.08</td>\n",
       "      <td>40.24</td>\n",
       "      <td>8.724</td>\n",
       "      <td>12.072</td>\n",
       "    </tr>\n",
       "    <tr>\n",
       "      <th>2</th>\n",
       "      <td>3</td>\n",
       "      <td>Mario Kart Wii</td>\n",
       "      <td>Wii</td>\n",
       "      <td>2010</td>\n",
       "      <td>Mar</td>\n",
       "      <td>Racing</td>\n",
       "      <td>Nintendo</td>\n",
       "      <td>United States</td>\n",
       "      <td>Louisville</td>\n",
       "      <td>Kentucky</td>\n",
       "      <td>South</td>\n",
       "      <td>15.85</td>\n",
       "      <td>35.82</td>\n",
       "      <td>4.755</td>\n",
       "      <td>10.746</td>\n",
       "    </tr>\n",
       "    <tr>\n",
       "      <th>3</th>\n",
       "      <td>4</td>\n",
       "      <td>Wii Sports Resort</td>\n",
       "      <td>Wii</td>\n",
       "      <td>2010</td>\n",
       "      <td>Apr</td>\n",
       "      <td>Sports</td>\n",
       "      <td>Nintendo</td>\n",
       "      <td>United States</td>\n",
       "      <td>Round Rock</td>\n",
       "      <td>Texas</td>\n",
       "      <td>Central</td>\n",
       "      <td>15.75</td>\n",
       "      <td>33.00</td>\n",
       "      <td>4.725</td>\n",
       "      <td>9.900</td>\n",
       "    </tr>\n",
       "    <tr>\n",
       "      <th>4</th>\n",
       "      <td>5</td>\n",
       "      <td>Pokemon Red/Pokemon Blue</td>\n",
       "      <td>GB</td>\n",
       "      <td>2010</td>\n",
       "      <td>May</td>\n",
       "      <td>Role-Playing</td>\n",
       "      <td>Nintendo</td>\n",
       "      <td>United States</td>\n",
       "      <td>Nashville</td>\n",
       "      <td>Tennessee</td>\n",
       "      <td>South</td>\n",
       "      <td>11.27</td>\n",
       "      <td>31.37</td>\n",
       "      <td>3.381</td>\n",
       "      <td>9.411</td>\n",
       "    </tr>\n",
       "    <tr>\n",
       "      <th>...</th>\n",
       "      <td>...</td>\n",
       "      <td>...</td>\n",
       "      <td>...</td>\n",
       "      <td>...</td>\n",
       "      <td>...</td>\n",
       "      <td>...</td>\n",
       "      <td>...</td>\n",
       "      <td>...</td>\n",
       "      <td>...</td>\n",
       "      <td>...</td>\n",
       "      <td>...</td>\n",
       "      <td>...</td>\n",
       "      <td>...</td>\n",
       "      <td>...</td>\n",
       "      <td>...</td>\n",
       "    </tr>\n",
       "    <tr>\n",
       "      <th>5904</th>\n",
       "      <td>5890</td>\n",
       "      <td>Crazy Taxi: Catch a Ride</td>\n",
       "      <td>GBA</td>\n",
       "      <td>2017</td>\n",
       "      <td>Sep</td>\n",
       "      <td>Racing</td>\n",
       "      <td>THQ</td>\n",
       "      <td>Australia</td>\n",
       "      <td>Sydney</td>\n",
       "      <td>New South Wales</td>\n",
       "      <td>West</td>\n",
       "      <td>0.21</td>\n",
       "      <td>0.30</td>\n",
       "      <td>0.063</td>\n",
       "      <td>0.090</td>\n",
       "    </tr>\n",
       "    <tr>\n",
       "      <th>5905</th>\n",
       "      <td>5891</td>\n",
       "      <td>MySims Party</td>\n",
       "      <td>DS</td>\n",
       "      <td>2017</td>\n",
       "      <td>Oct</td>\n",
       "      <td>Simulation</td>\n",
       "      <td>Electronic Arts</td>\n",
       "      <td>Australia</td>\n",
       "      <td>Sydney</td>\n",
       "      <td>New South Wales</td>\n",
       "      <td>West</td>\n",
       "      <td>0.15</td>\n",
       "      <td>0.30</td>\n",
       "      <td>0.045</td>\n",
       "      <td>0.090</td>\n",
       "    </tr>\n",
       "    <tr>\n",
       "      <th>5906</th>\n",
       "      <td>5892</td>\n",
       "      <td>Harry Potter and the Order of the Phoenix</td>\n",
       "      <td>X360</td>\n",
       "      <td>2017</td>\n",
       "      <td>Nov</td>\n",
       "      <td>Action</td>\n",
       "      <td>Electronic Arts</td>\n",
       "      <td>Australia</td>\n",
       "      <td>Sydney</td>\n",
       "      <td>New South Wales</td>\n",
       "      <td>West</td>\n",
       "      <td>0.24</td>\n",
       "      <td>0.30</td>\n",
       "      <td>0.072</td>\n",
       "      <td>0.090</td>\n",
       "    </tr>\n",
       "    <tr>\n",
       "      <th>5907</th>\n",
       "      <td>5893</td>\n",
       "      <td>Skylanders: SuperChargers</td>\n",
       "      <td>PS4</td>\n",
       "      <td>2017</td>\n",
       "      <td>Dec</td>\n",
       "      <td>Action</td>\n",
       "      <td>Activision</td>\n",
       "      <td>Australia</td>\n",
       "      <td>Sydney</td>\n",
       "      <td>New South Wales</td>\n",
       "      <td>West</td>\n",
       "      <td>0.17</td>\n",
       "      <td>0.30</td>\n",
       "      <td>0.051</td>\n",
       "      <td>0.090</td>\n",
       "    </tr>\n",
       "    <tr>\n",
       "      <th>5908</th>\n",
       "      <td>5894</td>\n",
       "      <td>Macross Digital Mission VF-X</td>\n",
       "      <td>PS</td>\n",
       "      <td>2017</td>\n",
       "      <td>Jan</td>\n",
       "      <td>Simulation</td>\n",
       "      <td>Namco Bandai Games</td>\n",
       "      <td>Australia</td>\n",
       "      <td>Sydney</td>\n",
       "      <td>New South Wales</td>\n",
       "      <td>West</td>\n",
       "      <td>0.00</td>\n",
       "      <td>0.30</td>\n",
       "      <td>0.000</td>\n",
       "      <td>0.090</td>\n",
       "    </tr>\n",
       "  </tbody>\n",
       "</table>\n",
       "<p>5893 rows × 15 columns</p>\n",
       "</div>"
      ],
      "text/plain": [
       "      Rank                                       Name Platform  Year Month  \\\n",
       "0        1                                 Wii Sports      Wii  2010   Jan   \n",
       "1        2                          Super Mario Bros.      NES  2010   Feb   \n",
       "2        3                             Mario Kart Wii      Wii  2010   Mar   \n",
       "3        4                          Wii Sports Resort      Wii  2010   Apr   \n",
       "4        5                   Pokemon Red/Pokemon Blue       GB  2010   May   \n",
       "...    ...                                        ...      ...   ...   ...   \n",
       "5904  5890                   Crazy Taxi: Catch a Ride      GBA  2017   Sep   \n",
       "5905  5891                               MySims Party       DS  2017   Oct   \n",
       "5906  5892  Harry Potter and the Order of the Phoenix     X360  2017   Nov   \n",
       "5907  5893                  Skylanders: SuperChargers      PS4  2017   Dec   \n",
       "5908  5894               Macross Digital Mission VF-X       PS  2017   Jan   \n",
       "\n",
       "             Genre           Publisher        Country        City  \\\n",
       "0           Sports            Nintendo  United States   Fairfield   \n",
       "1         Platform            Nintendo  United States     Edmonds   \n",
       "2           Racing            Nintendo  United States  Louisville   \n",
       "3           Sports            Nintendo  United States  Round Rock   \n",
       "4     Role-Playing            Nintendo  United States   Nashville   \n",
       "...            ...                 ...            ...         ...   \n",
       "5904        Racing                 THQ      Australia      Sydney   \n",
       "5905    Simulation     Electronic Arts      Australia      Sydney   \n",
       "5906        Action     Electronic Arts      Australia      Sydney   \n",
       "5907        Action          Activision      Australia      Sydney   \n",
       "5908    Simulation  Namco Bandai Games      Australia      Sydney   \n",
       "\n",
       "                State   Region  National_sales  Global_Sales  National_profit  \\\n",
       "0          California     West           41.49         82.74           12.447   \n",
       "1          Washington     West           29.08         40.24            8.724   \n",
       "2            Kentucky    South           15.85         35.82            4.755   \n",
       "3               Texas  Central           15.75         33.00            4.725   \n",
       "4           Tennessee    South           11.27         31.37            3.381   \n",
       "...               ...      ...             ...           ...              ...   \n",
       "5904  New South Wales     West            0.21          0.30            0.063   \n",
       "5905  New South Wales     West            0.15          0.30            0.045   \n",
       "5906  New South Wales     West            0.24          0.30            0.072   \n",
       "5907  New South Wales     West            0.17          0.30            0.051   \n",
       "5908  New South Wales     West            0.00          0.30            0.000   \n",
       "\n",
       "      Global_Profit  \n",
       "0            24.822  \n",
       "1            12.072  \n",
       "2            10.746  \n",
       "3             9.900  \n",
       "4             9.411  \n",
       "...             ...  \n",
       "5904          0.090  \n",
       "5905          0.090  \n",
       "5906          0.090  \n",
       "5907          0.090  \n",
       "5908          0.090  \n",
       "\n",
       "[5893 rows x 15 columns]"
      ]
     },
     "execution_count": 95,
     "metadata": {},
     "output_type": "execute_result"
    }
   ],
   "source": [
    "df=df.rename(columns={'NA_Sales':'National_sales','NA_Profit':'National_profit'})\n",
    "df"
   ]
  },
  {
   "cell_type": "code",
   "execution_count": 97,
   "id": "20911c1d-4a3a-4bef-b71e-94133adf3e9f",
   "metadata": {},
   "outputs": [
    {
     "data": {
      "text/plain": [
       "0       2.07\n",
       "1       2.07\n",
       "2       2.07\n",
       "3       2.07\n",
       "4       2.07\n",
       "        ... \n",
       "5904    0.21\n",
       "5905    0.15\n",
       "5906    0.24\n",
       "5907    0.17\n",
       "5908    0.00\n",
       "Name: National_sales, Length: 5893, dtype: float64"
      ]
     },
     "execution_count": 97,
     "metadata": {},
     "output_type": "execute_result"
    }
   ],
   "source": [
    "sales_cap=df['National_sales'].quantile(0.95)\n",
    "# sales_cap\n",
    "df['National_sales']=np.where(df['National_sales']> sales_cap,sales_cap,df['National_sales'])\n",
    "df['National_sales']"
   ]
  },
  {
   "cell_type": "markdown",
   "id": "ffdb1c74-e2f4-47ff-a672-99d9cb7060eb",
   "metadata": {},
   "source": [
    "# Region and Country wise National sales"
   ]
  },
  {
   "cell_type": "code",
   "execution_count": null,
   "id": "6c3b2119-2f63-45b1-ae51-dcc0e83b9a6b",
   "metadata": {},
   "outputs": [
    {
     "data": {
      "image/png": "[encoded data removed]",
      "text/plain": [
       "<Figure size 800x400 with 1 Axes>"
      ]
     },
     "metadata": {},
     "output_type": "display_data"
    }
   ],
   "source": [
    "sales=df.groupby(['Region','Country'])['National_sales'].sum().reset_index()\n",
    "sales.sort_values(by=\"National_sales\", ascending=False)\n",
    "plt.figure(figsize=(8,4))\n",
    "sns.barplot(data=sales,x='Region',y='National_sales',hue='Country')\n",
    "plt.title(\"National_sales by region and country\",fontweight='bold')\n",
    "plt.xlabel(\"Region\",fontweight='bold')\n",
    "plt.ylabel(\"National_sales\",fontweight='bold')\n",
    "plt.show()"
   ]
  },
  {
   "cell_type": "markdown",
   "id": "4fea6037-00d5-4da2-8a76-ba625ce46514",
   "metadata": {},
   "source": [
    "# Country wise sales"
   ]
  },
  {
   "cell_type": "code",
   "execution_count": 120,
   "id": "639a7543-7b1a-4963-b756-de1b60feb8b0",
   "metadata": {},
   "outputs": [
    {
     "data": {
      "image/png": "[encoded data removed]",
      "text/plain": [
       "<Figure size 1000x600 with 1 Axes>"
      ]
     },
     "metadata": {},
     "output_type": "display_data"
    }
   ],
   "source": [
    "plt.figure(figsize=(10,6))\n",
    "sns.boxplot(x='Country',y='National_sales',data=df,showmeans=True,hue='Genre',meanprops={\"marker\":\"o\",\"markerfacecolor\":\"white\",\n",
    "                                                                                         \"markersize\":\"3\",\"markeredgecolor\":\"green\"})\n",
    "plt.title(\"Nation_sales by  country\",fontweight=\"bold\")\n",
    "plt.xlabel(\"Country\",fontweight='bold')\n",
    "plt.ylabel(\"National_sales\",fontweight='bold')\n",
    "plt.show()                                                                                     \n"
   ]
  },
  {
   "cell_type": "code",
   "execution_count": 132,
   "id": "7a8552ac-53f5-43ce-a0f2-936b25323d30",
   "metadata": {},
   "outputs": [
    {
     "data": {
      "image/png": "[encoded data removed]",
      "text/plain": [
       "<Figure size 1000x700 with 2 Axes>"
      ]
     },
     "metadata": {},
     "output_type": "display_data"
    }
   ],
   "source": [
    "sales=df.groupby(['Country'])[['National_sales','Global_Sales']].sum().reset_index()\n",
    "country=sales['Country']\n",
    "nsales=sales['National_sales']\n",
    "gsales=sales['Global_Sales']\n",
    "fig,axs=plt.subplots(1,2,figsize=(10,7))\n",
    "axs[0].pie(nsales, labels=country,autopct='%1.1f%%',startangle=140)\n",
    "axs[0].set_title(\"National sales by country\")\n",
    "axs[1].pie(gsales, labels=country,autopct='%1.1f%%',startangle=40)\n",
    "axs[1].set_title(\"Global sales by country\")\n",
    "plt.show()"
   ]
  },
  {
   "cell_type": "code",
   "execution_count": null,
   "id": "14e3269d-040b-4e94-86d9-a84678591e9f",
   "metadata": {},
   "outputs": [],
   "source": []
  }
 ],
 "metadata": {
  "kernelspec": {
   "display_name": "Python 3 (ipykernel)",
   "language": "python",
   "name": "python3"
  },
  "language_info": {
   "codemirror_mode": {
    "name": "ipython",
    "version": 3
   },
   "file_extension": ".py",
   "mimetype": "text/x-python",
   "name": "python",
   "nbconvert_exporter": "python",
   "pygments_lexer": "ipython3",
   "version": "3.13.0"
  }
 },
 "nbformat": 4,
 "nbformat_minor": 5
}
